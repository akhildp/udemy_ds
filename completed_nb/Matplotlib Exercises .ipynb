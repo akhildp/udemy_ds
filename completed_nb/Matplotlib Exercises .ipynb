{
 "cells": [
  {
   "cell_type": "markdown",
   "metadata": {},
   "source": [
    "___\n",
    "\n",
    "<a href='http://www.pieriandata.com'> <img src='../Pierian_Data_Logo.png' /></a>\n",
    "___\n",
    "# Matplotlib Exercises \n",
    "\n",
    "Welcome to the exercises for reviewing matplotlib! Take your time with these, Matplotlib can be tricky to understand at first. These are relatively simple plots, but they can be hard if this is your first time with matplotlib, feel free to reference the solutions as you go along.\n",
    "\n",
    "Also don't worry if you find the matplotlib syntax frustrating, we actually won't be using it that often throughout the course, we will switch to using seaborn and pandas built-in visualization capabilities. But, those are built-off of matplotlib, which is why it is still important to get exposure to it!\n",
    "\n",
    "** * NOTE: ALL THE COMMANDS FOR PLOTTING A FIGURE SHOULD ALL GO IN THE SAME CELL. SEPARATING THEM OUT INTO MULTIPLE CELLS MAY CAUSE NOTHING TO SHOW UP. * **\n",
    "\n",
    "# Exercises\n",
    "\n",
    "Follow the instructions to recreate the plots using this data:\n",
    "\n",
    "## Data"
   ]
  },
  {
   "cell_type": "code",
   "execution_count": 1,
   "metadata": {
    "collapsed": true
   },
   "outputs": [],
   "source": [
    "import numpy as np\n",
    "from matplotlib.ticker import MaxNLocator\n",
    "x = np.arange(0,100)\n",
    "y = x*2\n",
    "z = x**2"
   ]
  },
  {
   "cell_type": "code",
   "execution_count": 2,
   "metadata": {},
   "outputs": [
    {
     "data": {
      "text/plain": [
       "array([ 0,  1,  2,  3,  4,  5,  6,  7,  8,  9, 10, 11, 12, 13, 14, 15, 16,\n",
       "       17, 18, 19, 20, 21, 22, 23, 24, 25, 26, 27, 28, 29, 30, 31, 32, 33,\n",
       "       34, 35, 36, 37, 38, 39, 40, 41, 42, 43, 44, 45, 46, 47, 48, 49, 50,\n",
       "       51, 52, 53, 54, 55, 56, 57, 58, 59, 60, 61, 62, 63, 64, 65, 66, 67,\n",
       "       68, 69, 70, 71, 72, 73, 74, 75, 76, 77, 78, 79, 80, 81, 82, 83, 84,\n",
       "       85, 86, 87, 88, 89, 90, 91, 92, 93, 94, 95, 96, 97, 98, 99])"
      ]
     },
     "execution_count": 2,
     "metadata": {},
     "output_type": "execute_result"
    }
   ],
   "source": [
    "x"
   ]
  },
  {
   "cell_type": "code",
   "execution_count": 3,
   "metadata": {},
   "outputs": [
    {
     "data": {
      "text/plain": [
       "array([  0,   2,   4,   6,   8,  10,  12,  14,  16,  18,  20,  22,  24,\n",
       "        26,  28,  30,  32,  34,  36,  38,  40,  42,  44,  46,  48,  50,\n",
       "        52,  54,  56,  58,  60,  62,  64,  66,  68,  70,  72,  74,  76,\n",
       "        78,  80,  82,  84,  86,  88,  90,  92,  94,  96,  98, 100, 102,\n",
       "       104, 106, 108, 110, 112, 114, 116, 118, 120, 122, 124, 126, 128,\n",
       "       130, 132, 134, 136, 138, 140, 142, 144, 146, 148, 150, 152, 154,\n",
       "       156, 158, 160, 162, 164, 166, 168, 170, 172, 174, 176, 178, 180,\n",
       "       182, 184, 186, 188, 190, 192, 194, 196, 198])"
      ]
     },
     "execution_count": 3,
     "metadata": {},
     "output_type": "execute_result"
    }
   ],
   "source": [
    "y"
   ]
  },
  {
   "cell_type": "code",
   "execution_count": 4,
   "metadata": {},
   "outputs": [
    {
     "data": {
      "text/plain": [
       "array([   0,    1,    4,    9,   16,   25,   36,   49,   64,   81,  100,\n",
       "        121,  144,  169,  196,  225,  256,  289,  324,  361,  400,  441,\n",
       "        484,  529,  576,  625,  676,  729,  784,  841,  900,  961, 1024,\n",
       "       1089, 1156, 1225, 1296, 1369, 1444, 1521, 1600, 1681, 1764, 1849,\n",
       "       1936, 2025, 2116, 2209, 2304, 2401, 2500, 2601, 2704, 2809, 2916,\n",
       "       3025, 3136, 3249, 3364, 3481, 3600, 3721, 3844, 3969, 4096, 4225,\n",
       "       4356, 4489, 4624, 4761, 4900, 5041, 5184, 5329, 5476, 5625, 5776,\n",
       "       5929, 6084, 6241, 6400, 6561, 6724, 6889, 7056, 7225, 7396, 7569,\n",
       "       7744, 7921, 8100, 8281, 8464, 8649, 8836, 9025, 9216, 9409, 9604,\n",
       "       9801])"
      ]
     },
     "execution_count": 4,
     "metadata": {},
     "output_type": "execute_result"
    }
   ],
   "source": [
    "z"
   ]
  },
  {
   "cell_type": "markdown",
   "metadata": {},
   "source": [
    "** Import matplotlib.pyplot as plt and set %matplotlib inline if you are using the jupyter notebook. What command do you use if you aren't using the jupyter notebook?**"
   ]
  },
  {
   "cell_type": "code",
   "execution_count": 5,
   "metadata": {
    "collapsed": true
   },
   "outputs": [],
   "source": [
    "import matplotlib.pyplot as plt\n",
    "%matplotlib inline"
   ]
  },
  {
   "cell_type": "markdown",
   "metadata": {},
   "source": [
    "## Exercise 1\n",
    "\n",
    "** Follow along with these steps: **\n",
    "* ** Create a figure object called fig using plt.figure() **\n",
    "* ** Use add_axes to add an axis to the figure canvas at [0,0,1,1]. Call this new axis ax. **\n",
    "* ** Plot (x,y) on that axes and set the labels and titles to match the plot below:**"
   ]
  },
  {
   "cell_type": "code",
   "execution_count": null,
   "metadata": {
    "collapsed": true
   },
   "outputs": [],
   "source": []
  },
  {
   "cell_type": "code",
   "execution_count": 6,
   "metadata": {},
   "outputs": [
    {
     "data": {
      "text/plain": [
       "[<matplotlib.lines.Line2D at 0x107854e80>]"
      ]
     },
     "execution_count": 6,
     "metadata": {},
     "output_type": "execute_result"
    },
    {
     "data": {
      "image/png": "[encoded data removed]",
      "text/plain": [
       "<matplotlib.figure.Figure at 0x10a80add8>"
      ]
     },
     "metadata": {},
     "output_type": "display_data"
    }
   ],
   "source": [
    "fig1=plt.figure()\n",
    "\n",
    "#Create Dimensions\n",
    "dim=[0.0,0.0,1.0,1.0]\n",
    "\n",
    "#Add and configure axis\n",
    "ax=fig1.add_axes([0.0,0.0,1.0,1.0],label='ax')\n",
    "ax.set_xlim(0,100)\n",
    "ax.set_ylim(0,200)\n",
    "ax.set_xlabel('x')\n",
    "ax.set_ylabel('y')\n",
    "ax.xaxis.set_ticks_position('both')\n",
    "ax.yaxis.set_ticks_position('both')\n",
    "\n",
    "ax.set_title('title')\n",
    "\n",
    "#Plot\n",
    "ax.plot(x,y,'.')\n",
    "\n",
    "\n"
   ]
  },
  {
   "cell_type": "markdown",
   "metadata": {},
   "source": [
    "## Exercise 2\n",
    "** Create a figure object and put two axes on it, ax1 and ax2. Located at [0,0,1,1] and [0.2,0.5,.2,.2] respectively.**"
   ]
  },
  {
   "cell_type": "code",
   "execution_count": 13,
   "metadata": {},
   "outputs": [
    {
     "data": {
      "text/plain": [
       "[<matplotlib.lines.Line2D at 0x10b52ca90>]"
      ]
     },
     "execution_count": 13,
     "metadata": {},
     "output_type": "execute_result"
    },
    {
     "data": {
      "image/png": "[encoded data removed]",
      "text/plain": [
       "<matplotlib.figure.Figure at 0x10b3f7e80>"
      ]
     },
     "metadata": {},
     "output_type": "display_data"
    }
   ],
   "source": [
    "fig2 = plt.figure()\n",
    "\n",
    "#Create axes\n",
    "ax1 = fig2.add_axes([0,0,1,1],label='ax1',frameon=True)\n",
    "ax2 = fig2.add_axes([0.2,0.5,.2,.2],label='ax2')\n",
    "\n",
    "#Configure ax1\n",
    "ax1.set_xlim(0,100)\n",
    "ax1.set_ylim(0,200)\n",
    "ax1.xaxis.set_ticks(np.arange(0, 101, 20))\n",
    "ax1.yaxis.set_ticks(np.arange(0, 201, 50))\n",
    "ax1.xaxis.set_ticks_position('both')\n",
    "ax1.yaxis.set_ticks_position('both')\n",
    "\n",
    "ax1.plot(x,y,'r')\n",
    "\n",
    "#Configure ax2\n",
    "ax2.set_xlim(0,100)\n",
    "ax2.set_ylim(0,200)\n",
    "ax2.xaxis.set_ticks(np.arange(0, 101, 20))\n",
    "ax2.yaxis.set_ticks(np.arange(0, 201, 50))\n",
    "ax2.xaxis.set_ticks_position('both')\n",
    "ax2.yaxis.set_ticks_position('both')\n",
    "\n",
    "ax2.plot(x,y,'r')"
   ]
  },
  {
   "cell_type": "markdown",
   "metadata": {},
   "source": [
    "** Now plot (x,y) on both axes. And call your figure object to show it.**"
   ]
  },
  {
   "cell_type": "code",
   "execution_count": null,
   "metadata": {},
   "outputs": [],
   "source": []
  },
  {
   "cell_type": "markdown",
   "metadata": {},
   "source": [
    "## Exercise 3\n",
    "\n",
    "** Create the plot below by adding two axes to a figure object at [0,0,1,1] and [0.2,0.5,.4,.4]**"
   ]
  },
  {
   "cell_type": "code",
   "execution_count": null,
   "metadata": {},
   "outputs": [],
   "source": []
  },
  {
   "cell_type": "code",
   "execution_count": 8,
   "metadata": {},
   "outputs": [
    {
     "data": {
      "image/png": "[encoded data removed]",
      "text/plain": [
       "<matplotlib.figure.Figure at 0x10a83bcf8>"
      ]
     },
     "metadata": {},
     "output_type": "display_data"
    }
   ],
   "source": [
    "fig3 = plt.figure()\n",
    "\n",
    "#Create axes\n",
    "ax_1 = fig3.add_axes([0,0,1,1],label='ax1',frameon=True)\n",
    "ax_2 = fig3.add_axes([0.2,0.5,.4,.4],label='ax2')"
   ]
  },
  {
   "cell_type": "code",
   "execution_count": 9,
   "metadata": {},
   "outputs": [
    {
     "data": {
      "image/png": "[encoded data removed]",
      "text/plain": [
       "<matplotlib.figure.Figure at 0x10a83bcf8>"
      ]
     },
     "execution_count": 9,
     "metadata": {},
     "output_type": "execute_result"
    }
   ],
   "source": [
    "\n",
    "\n",
    "#Configure ax1\n",
    "ax_1.xaxis.set_ticks_position('both')\n",
    "ax_1.yaxis.set_ticks_position('both')\n",
    "ax_1.set_xlim(0,100)\n",
    "ax_1.set_ylim(0,10000)\n",
    "ax_1.xaxis.set_ticks(np.arange(0, 101, 20))\n",
    "ax_1.yaxis.set_ticks(np.arange(0, 10001, 2000))\n",
    "ax_1.plot(x,z,'b')\n",
    "\n",
    "#Configure ax2\n",
    "ax_2.xaxis.set_ticks_position('both')\n",
    "ax_2.yaxis.set_ticks_position('both')\n",
    "ax_2.set_title('zoom')\n",
    "ax_2.set_xlim(20,22)\n",
    "ax_2.set_ylim(30,50)\n",
    "ax_2.xaxis.set_ticks(np.arange(20, 22.1, .5))\n",
    "ax_2.yaxis.set_ticks(np.arange(30, 50.1, 5))\n",
    "ax_2.plot(x,y,'g')\n",
    "\n",
    "#Show\n",
    "fig3"
   ]
  },
  {
   "cell_type": "markdown",
   "metadata": {},
   "source": [
    "** Now use x,y, and z arrays to recreate the plot below. Notice the xlimits and y limits on the inserted plot:**"
   ]
  },
  {
   "cell_type": "code",
   "execution_count": null,
   "metadata": {},
   "outputs": [],
   "source": []
  },
  {
   "cell_type": "markdown",
   "metadata": {},
   "source": [
    "## Exercise 4\n",
    "\n",
    "** Use plt.subplots(nrows=1, ncols=2) to create the plot below.**"
   ]
  },
  {
   "cell_type": "code",
   "execution_count": null,
   "metadata": {},
   "outputs": [],
   "source": []
  },
  {
   "cell_type": "code",
   "execution_count": 10,
   "metadata": {},
   "outputs": [
    {
     "data": {
      "text/plain": [
       "[<matplotlib.lines.Line2D at 0x10af10a90>]"
      ]
     },
     "execution_count": 10,
     "metadata": {},
     "output_type": "execute_result"
    },
    {
     "data": {
      "image/png": "[encoded data removed]",
      "text/plain": [
       "<matplotlib.figure.Figure at 0x10acf1eb8>"
      ]
     },
     "metadata": {},
     "output_type": "display_data"
    }
   ],
   "source": [
    "fig4, axes = plt.subplots(nrows=1, ncols=2)\n",
    "axes[0].xaxis.set_ticks_position('both')\n",
    "axes[0].yaxis.set_ticks_position('both')\n",
    "axes[0].set_xlim(0,100)\n",
    "axes[0].set_ylim(0,200)\n",
    "axes[0].xaxis.set_ticks(np.arange(0, 101, 25))\n",
    "axes[0].yaxis.set_ticks(np.arange(0, 200.1, 25))\n",
    "#axes[0].plot(x,z,'b')\n",
    "\n",
    "#Plot\n",
    "axes[0].plot(x, y, 'b--',linewidth=4)\n",
    "\n",
    "\n",
    "axes[1].xaxis.set_ticks_position('both')\n",
    "axes[1].yaxis.set_ticks_position('both')\n",
    "axes[1].set_xlim(0,100)\n",
    "axes[1].set_ylim(0,10000)\n",
    "axes[1].xaxis.set_ticks(np.arange(0, 101, 20))\n",
    "axes[1].yaxis.set_ticks(np.arange(0, 10000.1, 2000))\n",
    "\n",
    "#Plot\n",
    "axes[1].plot(x, z, 'g^',linewidth=1)\n",
    "\n",
    "\n",
    "    "
   ]
  },
  {
   "cell_type": "markdown",
   "metadata": {},
   "source": [
    "** Now plot (x,y) and (x,z) on the axes. Play around with the linewidth and style**"
   ]
  },
  {
   "cell_type": "code",
   "execution_count": null,
   "metadata": {},
   "outputs": [],
   "source": []
  },
  {
   "cell_type": "markdown",
   "metadata": {},
   "source": [
    "** See if you can resize the plot by adding the figsize() argument in plt.subplots() are copying and pasting your previous code.**"
   ]
  },
  {
   "cell_type": "code",
   "execution_count": 11,
   "metadata": {},
   "outputs": [
    {
     "data": {
      "text/plain": [
       "[<matplotlib.lines.Line2D at 0x10b0866a0>]"
      ]
     },
     "execution_count": 11,
     "metadata": {},
     "output_type": "execute_result"
    },
    {
     "data": {
      "image/png": "[encoded data removed]",
      "text/plain": [
       "<matplotlib.figure.Figure at 0x10aef4860>"
      ]
     },
     "metadata": {},
     "output_type": "display_data"
    }
   ],
   "source": [
    "#fig4 = plt.figure(figsize=(8,4), dpi=100)\n",
    "\n",
    "fig4, axes = plt.subplots(nrows=1, ncols=2,figsize=(8,4), dpi=100)\n",
    "axes[0].xaxis.set_ticks_position('both')\n",
    "axes[0].yaxis.set_ticks_position('both')\n",
    "axes[0].set_xlim(0,100)\n",
    "axes[0].set_ylim(0,200)\n",
    "axes[0].xaxis.set_ticks(np.arange(0, 101, 25))\n",
    "axes[0].yaxis.set_ticks(np.arange(0, 200.1, 25))\n",
    "#axes[0].plot(x,z,'b')\n",
    "\n",
    "#Plot\n",
    "axes[0].plot(x, y, 'b--',linewidth=4)\n",
    "\n",
    "\n",
    "axes[1].xaxis.set_ticks_position('both')\n",
    "axes[1].yaxis.set_ticks_position('both')\n",
    "axes[1].set_xlim(0,100)\n",
    "axes[1].set_ylim(0,10000)\n",
    "axes[1].xaxis.set_ticks(np.arange(0, 101, 20))\n",
    "axes[1].yaxis.set_ticks(np.arange(0, 10000.1, 2000))\n",
    "\n",
    "#Plot\n",
    "axes[1].plot(x, z, 'g^',linewidth=1)\n",
    "\n",
    "\n"
   ]
  },
  {
   "cell_type": "markdown",
   "metadata": {},
   "source": [
    "# Great Job!"
   ]
  }
 ],
 "metadata": {
  "kernelspec": {
   "display_name": "Python 3",
   "language": "python",
   "name": "python3"
  },
  "language_info": {
   "codemirror_mode": {
    "name": "ipython",
    "version": 3
   },
   "file_extension": ".py",
   "mimetype": "text/x-python",
   "name": "python",
   "nbconvert_exporter": "python",
   "pygments_lexer": "ipython3",
   "version": "3.6.0"
  }
 },
 "nbformat": 4,
 "nbformat_minor": 1
}
